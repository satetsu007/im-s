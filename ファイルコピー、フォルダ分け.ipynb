{
 "cells": [
  {
   "cell_type": "code",
   "execution_count": 54,
   "metadata": {
    "collapsed": true
   },
   "outputs": [],
   "source": [
    "import os\n",
    "import shutil\n",
    "import numpy as np\n",
    "import random"
   ]
  },
  {
   "cell_type": "code",
   "execution_count": 55,
   "metadata": {},
   "outputs": [],
   "source": [
    "os.chdir('/media/satetsu-gpu/Data/program/DL/anime/imas/Dataset/')"
   ]
  },
  {
   "cell_type": "code",
   "execution_count": 63,
   "metadata": {},
   "outputs": [
    {
     "name": "stdout",
     "output_type": "stream",
     "text": [
      "フォルダを作成しました\n",
      "フォルダを作成しました\n",
      "フォルダを作成しました\n",
      "フォルダを作成しました\n",
      "フォルダを作成しました\n",
      "フォルダを作成しました\n",
      "フォルダを作成しました\n",
      "フォルダを作成しました\n",
      "フォルダを作成しました\n",
      "フォルダを作成しました\n",
      "フォルダを作成しました\n",
      "フォルダを作成しました\n",
      "フォルダを作成しました\n",
      "フォルダを作成しました\n",
      "フォルダを作成しました\n",
      "フォルダを作成しました\n",
      "フォルダを作成しました\n",
      "フォルダを作成しました\n",
      "フォルダを作成しました\n",
      "フォルダを作成しました\n",
      "フォルダを作成しました\n",
      "フォルダを作成しました\n",
      "フォルダを作成しました\n",
      "フォルダを作成しました\n",
      "フォルダを作成しました\n",
      "フォルダを作成しました\n",
      "フォルダを作成しました\n",
      "フォルダを作成しました\n",
      "フォルダを作成しました\n",
      "フォルダを作成しました\n",
      "フォルダを作成しました\n",
      "フォルダを作成しました\n"
     ]
    }
   ],
   "source": [
    "# file名を一意なものに変更\n",
    "#folder = \"02\"\n",
    "#idol_name = os.listdir(folder)\n",
    "#for idol in idol_name:\n",
    "#    file_list = os.listdir(folder + \"/\" + idol)\n",
    "#    for file_name in file_list:\n",
    "#        os.rename(folder + \"/\" + idol + \"/\" + file_name, folder + \"/\" + idol + \"/\" + folder + \"_\" + file_name)\n",
    "folders = [\"train\", \"test\"]\n",
    "idol_name = os.listdir(folder)\n",
    "\n",
    "for folder in folders:\n",
    "    for idol in idol_name:\n",
    "        if not os.path.exists(folder + \"/\" + idol):\n",
    "                os.mkdir(folder + \"/\" + idol)\n",
    "        print(\"フォルダを作成しました\")"
   ]
  },
  {
   "cell_type": "code",
   "execution_count": 67,
   "metadata": {},
   "outputs": [],
   "source": [
    "folder = \"02\"\n",
    "idol_name = os.listdir(folder)\n",
    "for idol in idol_name:\n",
    "    file_list = os.listdir(folder + \"/\" + idol)\n",
    "    random.shuffle(file_list)\n",
    "    a = len(file_list) // 2\n",
    "    if not 2 * a == len(file_list):\n",
    "        b = a + 1\n",
    "    else:\n",
    "        b = a\n",
    "    for file_name in file_list[:a]:\n",
    "        shutil.copy(folder + \"/\" + idol + \"/\" + file_name, \"train/\" + idol + \"/\" + file_name)\n",
    "    \n",
    "    for file_name in file_list[b:]:\n",
    "        shutil.copy(folder + \"/\" + idol + \"/\" + file_name, \"test/\" + idol  + \"/\" + file_name)"
   ]
  },
  {
   "cell_type": "code",
   "execution_count": 7,
   "metadata": {},
   "outputs": [],
   "source": [
    "# os.rename(\"対象のファイル名\",\"変更後のファイル名\")\n",
    "os.rename(\"test.txt\", \"test.dat\")"
   ]
  },
  {
   "cell_type": "code",
   "execution_count": 13,
   "metadata": {},
   "outputs": [
    {
     "data": {
      "text/plain": [
       "'tmp/test.dat'"
      ]
     },
     "execution_count": 13,
     "metadata": {},
     "output_type": "execute_result"
    }
   ],
   "source": [
    "shutil.copy(\"test.dat\", \"tmp/test.dat\")"
   ]
  },
  {
   "cell_type": "code",
   "execution_count": 19,
   "metadata": {
    "collapsed": true
   },
   "outputs": [],
   "source": [
    "random.shuffle(idol_name)"
   ]
  },
  {
   "cell_type": "code",
   "execution_count": 20,
   "metadata": {},
   "outputs": [
    {
     "data": {
      "text/plain": [
       "['音無小鳥',\n",
       " '荻原雪歩',\n",
       " '誤分類',\n",
       " '菊地真',\n",
       " '双海亜美',\n",
       " '我那覇響',\n",
       " '四条貴音',\n",
       " '秋月律子',\n",
       " '双海真美',\n",
       " '赤羽P',\n",
       " '星井美希',\n",
       " '天海春香',\n",
       " '如月千早',\n",
       " '高槻やよい',\n",
       " '水瀬伊織',\n",
       " '三浦あずさ']"
      ]
     },
     "execution_count": 20,
     "metadata": {},
     "output_type": "execute_result"
    }
   ],
   "source": [
    "idol_name"
   ]
  },
  {
   "cell_type": "code",
   "execution_count": 41,
   "metadata": {},
   "outputs": [
    {
     "name": "stdout",
     "output_type": "stream",
     "text": [
      "6\n"
     ]
    }
   ],
   "source": [
    "a = 11\n",
    "b = 2\n",
    "if type(a / b) != int:\n",
    "    print(round(a / b))\n",
    "\n",
    "else:\n",
    "    print(a / b)"
   ]
  },
  {
   "cell_type": "code",
   "execution_count": 29,
   "metadata": {},
   "outputs": [
    {
     "data": {
      "text/plain": [
       "int"
      ]
     },
     "execution_count": 29,
     "metadata": {},
     "output_type": "execute_result"
    }
   ],
   "source": [
    "a = 10\n",
    "type(a)"
   ]
  },
  {
   "cell_type": "code",
   "execution_count": 59,
   "metadata": {},
   "outputs": [
    {
     "name": "stdout",
     "output_type": "stream",
     "text": [
      "150\n",
      "150\n",
      "665\n",
      "300\n"
     ]
    }
   ],
   "source": [
    "a = 300 // 2\n",
    "if not 2 * a == 300:\n",
    "    b = a + 1\n",
    "else:\n",
    "    b = a\n",
    "print(a)\n",
    "print(b)\n",
    "print(len(file_list))\n",
    "print(a + b)"
   ]
  },
  {
   "cell_type": "code",
   "execution_count": 60,
   "metadata": {},
   "outputs": [],
   "source": [
    "test = [1, 2, 3, 4, 5, 6]"
   ]
  },
  {
   "cell_type": "code",
   "execution_count": 61,
   "metadata": {},
   "outputs": [
    {
     "data": {
      "text/plain": [
       "[1, 2, 3]"
      ]
     },
     "execution_count": 61,
     "metadata": {},
     "output_type": "execute_result"
    }
   ],
   "source": [
    "test[:3]"
   ]
  },
  {
   "cell_type": "code",
   "execution_count": 62,
   "metadata": {},
   "outputs": [
    {
     "data": {
      "text/plain": [
       "[4, 5, 6]"
      ]
     },
     "execution_count": 62,
     "metadata": {},
     "output_type": "execute_result"
    }
   ],
   "source": [
    "test[3:]"
   ]
  },
  {
   "cell_type": "code",
   "execution_count": null,
   "metadata": {
    "collapsed": true
   },
   "outputs": [],
   "source": []
  }
 ],
 "metadata": {
  "kernelspec": {
   "display_name": "Python 3",
   "language": "python",
   "name": "python3"
  },
  "language_info": {
   "codemirror_mode": {
    "name": "ipython",
    "version": 3
   },
   "file_extension": ".py",
   "mimetype": "text/x-python",
   "name": "python",
   "nbconvert_exporter": "python",
   "pygments_lexer": "ipython3",
   "version": "3.6.1"
  }
 },
 "nbformat": 4,
 "nbformat_minor": 2
}
